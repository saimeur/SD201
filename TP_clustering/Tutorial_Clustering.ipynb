{
 "cells": [
  {
   "cell_type": "markdown",
   "metadata": {},
   "source": [
    "# K-Means Clustering with scikit-learn\n",
    "\n",
    "We are going to use the implementation for k-means from scikit-learn, see [here](http://scikit-learn.org/stable/modules/generated/sklearn.cluster.KMeans.html#sklearn.cluster.KMeans.fit) for a documentation. "
   ]
  },
  {
   "cell_type": "code",
   "execution_count": 1,
   "metadata": {
    "collapsed": true
   },
   "outputs": [],
   "source": [
    "from sklearn.cluster import KMeans"
   ]
  },
  {
   "cell_type": "markdown",
   "metadata": {},
   "source": [
    "When using k-means from scikit-learn, we recommend you that your data be stored as a numpy array. Create it or convert your data into a numpy array as follows."
   ]
  },
  {
   "cell_type": "code",
   "execution_count": 2,
   "metadata": {
    "collapsed": true
   },
   "outputs": [
    {
     "data": {
      "text/plain": [
       "array([[1, 2],\n",
       "       [1, 4],\n",
       "       [1, 0],\n",
       "       [4, 2],\n",
       "       [4, 4],\n",
       "       [4, 0]])"
      ]
     },
     "execution_count": 2,
     "metadata": {},
     "output_type": "execute_result"
    }
   ],
   "source": [
    "import numpy as np\n",
    "\n",
    "#create a numpy array\n",
    "X = np.array([[1, 2], [1, 4], [1, 0],[4, 2], [4, 4], [4, 0]])\n",
    "\n",
    "#convert a list to a numpy array\n",
    "a=[]\n",
    "for i in range(0,10):\n",
    "    p=[i,2*i]\n",
    "    a.append(p)\n",
    "\n",
    "Y=np.array(a, dtype='float32')\n",
    "X\n"
   ]
  },
  {
   "cell_type": "markdown",
   "metadata": {},
   "source": [
    "The following execute the k-means algorithm on the points in X. Make sure you understand the parameters see [here](http://scikit-learn.org/stable/modules/generated/sklearn.cluster.KMeans.html#sklearn.cluster.KMeans.fit)"
   ]
  },
  {
   "cell_type": "code",
   "execution_count": 3,
   "metadata": {
    "collapsed": true
   },
   "outputs": [],
   "source": [
    "kmeans = KMeans(init='random', n_clusters=2, max_iter=10000, n_init=100).fit(X)"
   ]
  },
  {
   "cell_type": "markdown",
   "metadata": {},
   "source": [
    "The following code shows for each data points its cluster (0 or 1)"
   ]
  },
  {
   "cell_type": "code",
   "execution_count": 4,
   "metadata": {},
   "outputs": [
    {
     "data": {
      "text/plain": [
       "array([0, 0, 0, 1, 1, 1])"
      ]
     },
     "execution_count": 4,
     "metadata": {},
     "output_type": "execute_result"
    }
   ],
   "source": [
    "kmeans.labels_"
   ]
  },
  {
   "cell_type": "markdown",
   "metadata": {},
   "source": [
    "The following code computes the clusters for the points [0,0] and [4,4]. In this case, [0,0] is placed in cluster labeled 0 and [4,4] in the cluster labeled 1."
   ]
  },
  {
   "cell_type": "code",
   "execution_count": 5,
   "metadata": {},
   "outputs": [
    {
     "data": {
      "text/plain": [
       "array([0, 1])"
      ]
     },
     "execution_count": 5,
     "metadata": {},
     "output_type": "execute_result"
    }
   ],
   "source": [
    "kmeans.predict([[0, 0], [4, 4]])"
   ]
  },
  {
   "cell_type": "markdown",
   "metadata": {},
   "source": [
    "The following code shows the centroids (in this case called centers ) of the two clusters."
   ]
  },
  {
   "cell_type": "markdown",
   "metadata": {},
   "source": []
  },
  {
   "cell_type": "code",
   "execution_count": 6,
   "metadata": {},
   "outputs": [
    {
     "data": {
      "text/plain": [
       "array([[1., 2.],\n",
       "       [4., 2.]])"
      ]
     },
     "execution_count": 6,
     "metadata": {},
     "output_type": "execute_result"
    }
   ],
   "source": [
    "kmeans.cluster_centers_"
   ]
  },
  {
   "cell_type": "markdown",
   "metadata": {},
   "source": [
    "# On test avec nos data"
   ]
  },
  {
   "cell_type": "markdown",
   "metadata": {},
   "source": [
    "Importation des data en format numpy_array"
   ]
  },
  {
   "cell_type": "code",
   "execution_count": 7,
   "metadata": {},
   "outputs": [],
   "source": [
    "import csv\n",
    "imu_path = 'C:\\\\Users\\\\samai\\\\Dev\\\\SD201\\\\TP_clustering\\\\data.csv'\n",
    "\n",
    "tab_imu=[]\n",
    "\n",
    "with open(imu_path, 'r') as csvfile:\n",
    "    csvreader = csv.reader(csvfile)\n",
    "    for row in csvreader:\n",
    "        tab_imu.append(row)\n",
    "\n",
    "tab_imu=np.array(tab_imu)\n",
    "tab_imu= tab_imu[1:].T[1:].T\n",
    "data = np.array(tab_imu, dtype='float32')\n"
   ]
  },
  {
   "cell_type": "code",
   "execution_count": 8,
   "metadata": {},
   "outputs": [],
   "source": [
    "kmeans = KMeans(init='random', n_clusters=8, max_iter=40000, n_init=10).fit(data)\n"
   ]
  },
  {
   "cell_type": "code",
   "execution_count": 9,
   "metadata": {},
   "outputs": [
    {
     "data": {
      "text/plain": [
       "(4, 1, 4, 1)"
      ]
     },
     "execution_count": 9,
     "metadata": {},
     "output_type": "execute_result"
    }
   ],
   "source": [
    "(kmeans.labels_[7],kmeans.labels_[25],kmeans.labels_[9],kmeans.labels_[15])"
   ]
  },
  {
   "cell_type": "markdown",
   "metadata": {},
   "source": [
    "Euclidian distance"
   ]
  },
  {
   "cell_type": "code",
   "execution_count": 10,
   "metadata": {},
   "outputs": [],
   "source": [
    "def dist_square(x,y):\n",
    "    res=0\n",
    "    for i in range(len(x)):\n",
    "        res+= (x[i]-y[i])**2\n",
    "    return res\n"
   ]
  },
  {
   "cell_type": "markdown",
   "metadata": {},
   "source": [
    "Computation of SSE"
   ]
  },
  {
   "cell_type": "code",
   "execution_count": 11,
   "metadata": {},
   "outputs": [],
   "source": [
    "def SSE(x,centre,appart):\n",
    "\n",
    "    sse=0\n",
    "\n",
    "    for i in range(30):\n",
    "        sse += dist_square(x[i], centre[appart[i]])\n",
    "    return sse\n"
   ]
  },
  {
   "cell_type": "code",
   "execution_count": 12,
   "metadata": {},
   "outputs": [
    {
     "data": {
      "text/plain": [
       "1838.585247338966"
      ]
     },
     "execution_count": 12,
     "metadata": {},
     "output_type": "execute_result"
    }
   ],
   "source": [
    "centres =  kmeans.cluster_centers_\n",
    "SSE(data, centres, kmeans.labels_)"
   ]
  },
  {
   "cell_type": "code",
   "execution_count": 13,
   "metadata": {},
   "outputs": [
    {
     "data": {
      "text/plain": [
       "True"
      ]
     },
     "execution_count": 13,
     "metadata": {},
     "output_type": "execute_result"
    }
   ],
   "source": [
    "centres[0][24] + data[0][24]\n",
    "dist_square(data[0], centres[0])\n",
    "\n",
    "import random\n",
    "np.ones((10,2))/10\n",
    "random.random()\n",
    "\n",
    "u=20.3\n",
    "20.248842<= u <= 20.3001"
   ]
  },
  {
   "cell_type": "markdown",
   "metadata": {},
   "source": [
    "K++ Algorithm"
   ]
  },
  {
   "cell_type": "code",
   "execution_count": 14,
   "metadata": {},
   "outputs": [],
   "source": [
    "def f(x,tab):\n",
    "    for i in range(len(tab)-1):\n",
    "        if tab[i]<= x <= tab[i+1]:\n",
    "            return i+1\n",
    "    else:\n",
    "        return 0"
   ]
  },
  {
   "cell_type": "code",
   "execution_count": 15,
   "metadata": {},
   "outputs": [
    {
     "data": {
      "text/plain": [
       "(8, 25)"
      ]
     },
     "execution_count": 15,
     "metadata": {},
     "output_type": "execute_result"
    }
   ],
   "source": [
    "def k_plus(x):\n",
    "    Set =[]\n",
    "    Set.append(data[np.random.randint(0,29)])\n",
    "    k=1\n",
    "    while k<8:\n",
    "        res=np.zeros(30)\n",
    "        total = 0\n",
    "        min = 0\n",
    "        for i in range(30):\n",
    "            for j in range(len(Set)):\n",
    "                if dist_square(x[i],Set[j])< dist_square(x[i],Set[min]):\n",
    "                    min = j\n",
    "            res[i]= dist_square(x[i],Set[min])\n",
    "            total += res[i]\n",
    "        res= np.array(res, dtype='float32')/total\n",
    "\n",
    "        for i in range(29):\n",
    "            res[i+1]+= res[i]\n",
    "        z=random.random()\n",
    "        Set.append(x[f(z, res)])\n",
    "        k+=1\n",
    "    return Set\n",
    "\n",
    "np.shape(k_plus(data))"
   ]
  },
  {
   "cell_type": "code",
   "execution_count": 73,
   "metadata": {},
   "outputs": [
    {
     "data": {
      "text/plain": [
       "1542.491791536703"
      ]
     },
     "execution_count": 73,
     "metadata": {},
     "output_type": "execute_result"
    }
   ],
   "source": [
    "kmeans = KMeans(init='k-means++', n_clusters=8, max_iter=40000, n_init=10).fit(data)\n",
    "SSE(data,kmeans.cluster_centers_,kmeans.labels_)"
   ]
  },
  {
   "cell_type": "code",
   "execution_count": 62,
   "metadata": {},
   "outputs": [
    {
     "data": {
      "text/plain": [
       "1565.5129471490498"
      ]
     },
     "execution_count": 62,
     "metadata": {},
     "output_type": "execute_result"
    }
   ],
   "source": [
    "SSE(data,kmeans.cluster_centers_,kmeans.labels_)"
   ]
  },
  {
   "cell_type": "code",
   "execution_count": 74,
   "metadata": {},
   "outputs": [
    {
     "data": {
      "text/plain": [
       "1642.8645229903177"
      ]
     },
     "execution_count": 74,
     "metadata": {},
     "output_type": "execute_result"
    }
   ],
   "source": [
    "min = 2000\n",
    "for i in range(10):\n",
    "    kmeans2 = KMeans(init=k_plus(data), n_clusters=8, max_iter=40000, n_init=1).fit(data)\n",
    "    centres =  kmeans2.cluster_centers_\n",
    "    if min > SSE(data, centres, kmeans2.labels_):\n",
    "        min = SSE(data, centres, kmeans2.labels_)\n",
    "min"
   ]
  },
  {
   "cell_type": "code",
   "execution_count": 77,
   "metadata": {},
   "outputs": [
    {
     "data": {
      "text/plain": [
       "([array([-0.963597,  1.40845 , -1.88301 , -0.701481,  2.27179 ,  1.97562 ,\n",
       "         -3.13097 , -0.514706, -2.70694 , -1.72216 ,  0.537857, -1.97842 ,\n",
       "         -0.83682 , -0.269854, -4.24679 ,  0.35461 ,  2.43615 ,  1.67331 ,\n",
       "         -2.77257 ,  1.74742 ,  0.      ,  1.96078 , -0.85885 , -2.9845  ,\n",
       "         -0.497159], dtype=float32),\n",
       "  array([-1.48197 ,  2.19485 ,  0.372353,  0.542299,  0.919811, -1.18673 ,\n",
       "         -4.48936 ,  4.34783 ,  0.704535,  0.263043, -2.49383 ,  4.06704 ,\n",
       "         -0.121655, -1.95908 , -3.86216 ,  3.79015 ,  1.56114 ,  0.926135,\n",
       "         -2.75582 , -0.907519,  0.405314,  1.48837 , -1.10169 , -3.57542 ,\n",
       "          0.599733], dtype=float32),\n",
       "  array([ 0.658256 , -1.22308  ,  0.981194 ,  0.266951 ,  0.       ,\n",
       "          3.19785  ,  1.92256  ,  2.69549  , -2.49187  , -0.322061 ,\n",
       "          2.30388  ,  1.84783  , -3.06979  , -1.20192  , -4.28413  ,\n",
       "          5.0644   , -0.0533618,  0.265252 ,  0.188425 ,  3.11381  ,\n",
       "         -0.888769 , -2.32955  , -5.64885  ,  0.216626 ,  1.50125  ],\n",
       "        dtype=float32),\n",
       "  array([-2.73973 ,  0.418535,  1.1194  ,  0.829346, -0.629111,  1.65094 ,\n",
       "          5.13709 ,  0.782524, -1.65027 ,  0.443599,  0.610643, -1.66774 ,\n",
       "         -0.821837,  1.42857 , -1.98333 ,  1.39114 , -0.126143,  2.01711 ,\n",
       "         -0.754243,  1.55945 ,  2.16181 , -1.79471 ,  3.22266 ,  3.19432 ,\n",
       "         -0.191022], dtype=float32),\n",
       "  array([  0.431862 ,   3.48494  ,  -1.72414  ,  -1.84332  ,   0.304692 ,\n",
       "          -1.12285  ,  -3.83964  ,   0.0530786,  -3.76193  ,  -2.23312  ,\n",
       "          -0.0669344, -15.4229   ,  -5.73566  ,   0.285551 ,  -3.49608  ,\n",
       "           1.2894   ,   3.76249  ,   0.35545  ,  -1.18153  ,  -0.346021 ,\n",
       "           5.35117  ,   2.54279  ,  -0.480513 ,  -3.70793  ,  -2.35627  ],\n",
       "        dtype=float32),\n",
       "  array([-4.07609  ,  3.25216  , -1.08417  ,  0.8647   ,  2.42368  ,\n",
       "         -0.0452352,  1.71313  ,  0.692042 , -1.54648  , -2.2917   ,\n",
       "         -1.54358  , -0.295664 ,  0.333991 , -0.986044 , -1.81251  ,\n",
       "          0.417402 , -0.0672269,  5.98842  ,  1.88553  ,  0.528379 ,\n",
       "          1.13032  , -0.0479004, -1.71391  ,  2.31915  ,  0.723356 ],\n",
       "        dtype=float32),\n",
       "  array([ 1.45776  ,  2.96552  , -1.08524  ,  1.87463  , -0.0925819,\n",
       "          1.98987  , -1.82353  , -0.0705302, -0.718355 , -2.10767  ,\n",
       "         -0.0355619,  2.83645  , -0.277342 , -0.910807 , -4.32184  ,\n",
       "          1.03488  , -0.992295 ,  5.44794  , -0.86145  ,  2.73063  ,\n",
       "          0.880196 , -0.138906 , -1.38396  ,  0.112511 ,  1.16044  ],\n",
       "        dtype=float32),\n",
       "  array([ 0.177552,  1.95851 ,  1.68287 ,  0.97782 ,  3.00424 , -1.225   ,\n",
       "         -1.93136 ,  3.04878 , -1.00404 , -4.33364 , -2.37762 , -0.754943,\n",
       "         -1.42098 , -6.14075 , -2.52161 ,  3.60708 ,  2.0057  ,  3.91048 ,\n",
       "         -0.919995,  2.13754 ,  4.2042  ,  2.53663 ,  0.435448, -2.578   ,\n",
       "          1.52976 ], dtype=float32)],\n",
       " [array([-1.48197 ,  2.19485 ,  0.372353,  0.542299,  0.919811, -1.18673 ,\n",
       "         -4.48936 ,  4.34783 ,  0.704535,  0.263043, -2.49383 ,  4.06704 ,\n",
       "         -0.121655, -1.95908 , -3.86216 ,  3.79015 ,  1.56114 ,  0.926135,\n",
       "         -2.75582 , -0.907519,  0.405314,  1.48837 , -1.10169 , -3.57542 ,\n",
       "          0.599733], dtype=float32),\n",
       "  array([-2.70668 ,  6.67656 ,  0.      ,  1.62876 , -1.25443 ,  1.02769 ,\n",
       "          2.46437 , -0.363967, -1.81538 , -0.818182, -2.09691 ,  0.394657,\n",
       "         -0.70028 , -0.137212, -1.56636 , -8.13204 ,  0.989802, -0.467836,\n",
       "          2.67081 ,  1.49579 , -1.20156 ,  2.92091 , -1.70992 ,  2.68624 ,\n",
       "         -0.498973], dtype=float32),\n",
       "  array([-1.99294 ,  1.79499 ,  0.581677, -0.787219,  0.899149, -1.52731 ,\n",
       "         -0.574713,  0.85668 , -3.30675 , -1.37836 , -0.713342,  6.39706 ,\n",
       "         -1.73558 , -0.943179, -6.01432 ,  0.717765, -2.58922 ,  3.17305 ,\n",
       "          1.23199 ,  3.64206 ,  4.27766 ,  4.531   ,  0.280177, -4.15512 ,\n",
       "          1.71487 ], dtype=float32),\n",
       "  array([ 2.0447   ,  8.32943  , -0.428816 , -3.5225   , -3.09773  ,\n",
       "         -1.11993  , -1.59442  ,  2.35784  , -3.5334   , -3.78054  ,\n",
       "          0.0471921,  0.0919963, -1.92661  ,  0.999131 , -3.20713  ,\n",
       "          1.78658  ,  1.1622   ,  9.88223  , -0.873563 ,  2.36181  ,\n",
       "          0.603248 , -1.66587  , -0.410023 ,  1.21055  , -0.998573 ],\n",
       "        dtype=float32),\n",
       "  array([  0.431862 ,   3.48494  ,  -1.72414  ,  -1.84332  ,   0.304692 ,\n",
       "          -1.12285  ,  -3.83964  ,   0.0530786,  -3.76193  ,  -2.23312  ,\n",
       "          -0.0669344, -15.4229   ,  -5.73566  ,   0.285551 ,  -3.49608  ,\n",
       "           1.2894   ,   3.76249  ,   0.35545  ,  -1.18153  ,  -0.346021 ,\n",
       "           5.35117  ,   2.54279  ,  -0.480513 ,  -3.70793  ,  -2.35627  ],\n",
       "        dtype=float32),\n",
       "  array([-3.2019   ,  5.65488  , -1.44928  ,  0.693878 ,  0.574788 ,\n",
       "          1.50561  , -1.42566  ,  0.467675 , -2.90853  ,  0.0558659,\n",
       "         -3.65062  ,  0.99398  , -2.76886  , -1.29434  , -3.80463  ,\n",
       "          0.93633  ,  0.122649 ,  3.74037  , -0.92452  ,  4.33917  ,\n",
       "          3.06093  ,  4.88284  , -0.0691085, -0.353045 ,  1.15721  ],\n",
       "        dtype=float32),\n",
       "  array([ 1.63831 ,  0.354191, -4.35294 ,  1.98482 ,  3.25815 , -3.72793 ,\n",
       "         -8.52713 , -0.632547,  1.00313 , -3.31725 ,  3.81731 ,  0.230814,\n",
       "         -4.0201  , -0.694847, -4.8416  , -4.42849 ,  2.87026 ,  3.72861 ,\n",
       "         -1.36823 ,  4.33455 ,  5.93325 ,  3.79267 , -1.76678 , -0.34965 ,\n",
       "         -2.47066 ], dtype=float32),\n",
       "  array([ 2.43855 ,  1.74769 ,  0.206113,  1.68998 , -0.593472,  0.      ,\n",
       "          1.69481 ,  0.401998, -3.27004 ,  0.513614,  0.836897, -0.140176,\n",
       "         -0.958971, -1.8709  , -2.01259 ,  2.04082 , -0.225033,  2.21088 ,\n",
       "         -0.326435,  2.87998 ,  3.02802 ,  0.489097, -0.788653,  0.908605,\n",
       "          3.79122 ], dtype=float32)])"
      ]
     },
     "execution_count": 77,
     "metadata": {},
     "output_type": "execute_result"
    }
   ],
   "source": [
    "(k_plus(data),k_plus(data))"
   ]
  }
 ],
 "metadata": {
  "kernelspec": {
   "display_name": "MDI_220_env",
   "language": "python",
   "name": "python3"
  },
  "language_info": {
   "codemirror_mode": {
    "name": "ipython",
    "version": 3
   },
   "file_extension": ".py",
   "mimetype": "text/x-python",
   "name": "python",
   "nbconvert_exporter": "python",
   "pygments_lexer": "ipython3",
   "version": "3.12.0"
  },
  "varInspector": {
   "cols": {
    "lenName": 16,
    "lenType": 16,
    "lenVar": 40
   },
   "kernels_config": {
    "python": {
     "delete_cmd_postfix": "",
     "delete_cmd_prefix": "del ",
     "library": "var_list.py",
     "varRefreshCmd": "print(var_dic_list())"
    },
    "r": {
     "delete_cmd_postfix": ") ",
     "delete_cmd_prefix": "rm(",
     "library": "var_list.r",
     "varRefreshCmd": "cat(var_dic_list()) "
    }
   },
   "types_to_exclude": [
    "module",
    "function",
    "builtin_function_or_method",
    "instance",
    "_Feature"
   ],
   "window_display": false
  }
 },
 "nbformat": 4,
 "nbformat_minor": 2
}
